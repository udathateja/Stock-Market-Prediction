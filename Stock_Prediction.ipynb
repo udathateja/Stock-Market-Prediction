{
  "nbformat": 4,
  "nbformat_minor": 0,
  "metadata": {
    "colab": {
      "name": "Stock_Prediction.ipynb",
      "version": "0.3.2",
      "provenance": [],
      "collapsed_sections": [],
      "include_colab_link": true
    },
    "kernelspec": {
      "name": "python3",
      "display_name": "Python 3"
    }
  },
  "cells": [
    {
      "cell_type": "markdown",
      "metadata": {
        "id": "view-in-github",
        "colab_type": "text"
      },
      "source": [
        "<a href=\"https://colab.research.google.com/github/roshank1605A04/Stock-Market-Predictions/blob/master/Stock_Prediction.ipynb\" target=\"_parent\"><img src=\"https://colab.research.google.com/assets/colab-badge.svg\" alt=\"Open In Colab\"/></a>"
      ]
    },
    {
      "metadata": {
        "id": "qNYMEOdmsOac",
        "colab_type": "code",
        "colab": {}
      },
      "cell_type": "code",
      "source": [
        "import numpy as np\n",
        "import pandas as pd\n",
        "\n",
        "import matplotlib.pyplot as plt\n",
        "import seaborn as sns\n"
      ],
      "execution_count": 0,
      "outputs": []
    },
    {
      "metadata": {
        "id": "Q-M-x72pu8TH",
        "colab_type": "code",
        "outputId": "cacecccf-a38a-47cd-9e8d-332af6bf8735",
        "colab": {
          "base_uri": "https://localhost:8080/",
          "height": 206
        }
      },
      "cell_type": "code",
      "source": [
        "training_data = pd.read_csv('drive/My Drive/super/Recurrent Neural Networks/Google_Stock_Price_Train.csv')\n",
        "\n",
        "training_data.shape\n",
        "training_data.head()"
      ],
      "execution_count": 0,
      "outputs": [
        {
          "output_type": "execute_result",
          "data": {
            "text/html": [
              "<div>\n",
              "<style scoped>\n",
              "    .dataframe tbody tr th:only-of-type {\n",
              "        vertical-align: middle;\n",
              "    }\n",
              "\n",
              "    .dataframe tbody tr th {\n",
              "        vertical-align: top;\n",
              "    }\n",
              "\n",
              "    .dataframe thead th {\n",
              "        text-align: right;\n",
              "    }\n",
              "</style>\n",
              "<table border=\"1\" class=\"dataframe\">\n",
              "  <thead>\n",
              "    <tr style=\"text-align: right;\">\n",
              "      <th></th>\n",
              "      <th>Date</th>\n",
              "      <th>Open</th>\n",
              "      <th>High</th>\n",
              "      <th>Low</th>\n",
              "      <th>Close</th>\n",
              "      <th>Volume</th>\n",
              "    </tr>\n",
              "  </thead>\n",
              "  <tbody>\n",
              "    <tr>\n",
              "      <th>0</th>\n",
              "      <td>1/3/2012</td>\n",
              "      <td>325.25</td>\n",
              "      <td>332.83</td>\n",
              "      <td>324.97</td>\n",
              "      <td>663.59</td>\n",
              "      <td>7,380,500</td>\n",
              "    </tr>\n",
              "    <tr>\n",
              "      <th>1</th>\n",
              "      <td>1/4/2012</td>\n",
              "      <td>331.27</td>\n",
              "      <td>333.87</td>\n",
              "      <td>329.08</td>\n",
              "      <td>666.45</td>\n",
              "      <td>5,749,400</td>\n",
              "    </tr>\n",
              "    <tr>\n",
              "      <th>2</th>\n",
              "      <td>1/5/2012</td>\n",
              "      <td>329.83</td>\n",
              "      <td>330.75</td>\n",
              "      <td>326.89</td>\n",
              "      <td>657.21</td>\n",
              "      <td>6,590,300</td>\n",
              "    </tr>\n",
              "    <tr>\n",
              "      <th>3</th>\n",
              "      <td>1/6/2012</td>\n",
              "      <td>328.34</td>\n",
              "      <td>328.77</td>\n",
              "      <td>323.68</td>\n",
              "      <td>648.24</td>\n",
              "      <td>5,405,900</td>\n",
              "    </tr>\n",
              "    <tr>\n",
              "      <th>4</th>\n",
              "      <td>1/9/2012</td>\n",
              "      <td>322.04</td>\n",
              "      <td>322.29</td>\n",
              "      <td>309.46</td>\n",
              "      <td>620.76</td>\n",
              "      <td>11,688,800</td>\n",
              "    </tr>\n",
              "  </tbody>\n",
              "</table>\n",
              "</div>"
            ],
            "text/plain": [
              "       Date    Open    High     Low   Close      Volume\n",
              "0  1/3/2012  325.25  332.83  324.97  663.59   7,380,500\n",
              "1  1/4/2012  331.27  333.87  329.08  666.45   5,749,400\n",
              "2  1/5/2012  329.83  330.75  326.89  657.21   6,590,300\n",
              "3  1/6/2012  328.34  328.77  323.68  648.24   5,405,900\n",
              "4  1/9/2012  322.04  322.29  309.46  620.76  11,688,800"
            ]
          },
          "metadata": {
            "tags": []
          },
          "execution_count": 11
        }
      ]
    },
    {
      "metadata": {
        "id": "Pm3EqSv_V0JB",
        "colab_type": "code",
        "outputId": "42b3b7d2-ab84-4815-b7e1-200047121ead",
        "colab": {
          "base_uri": "https://localhost:8080/",
          "height": 206
        }
      },
      "cell_type": "code",
      "source": [
        "training_data = training_data.iloc[:, 1:2]\n",
        "\n",
        "training_data.shape\n",
        "training_data.head()"
      ],
      "execution_count": 0,
      "outputs": [
        {
          "output_type": "execute_result",
          "data": {
            "text/html": [
              "<div>\n",
              "<style scoped>\n",
              "    .dataframe tbody tr th:only-of-type {\n",
              "        vertical-align: middle;\n",
              "    }\n",
              "\n",
              "    .dataframe tbody tr th {\n",
              "        vertical-align: top;\n",
              "    }\n",
              "\n",
              "    .dataframe thead th {\n",
              "        text-align: right;\n",
              "    }\n",
              "</style>\n",
              "<table border=\"1\" class=\"dataframe\">\n",
              "  <thead>\n",
              "    <tr style=\"text-align: right;\">\n",
              "      <th></th>\n",
              "      <th>Open</th>\n",
              "    </tr>\n",
              "  </thead>\n",
              "  <tbody>\n",
              "    <tr>\n",
              "      <th>0</th>\n",
              "      <td>325.25</td>\n",
              "    </tr>\n",
              "    <tr>\n",
              "      <th>1</th>\n",
              "      <td>331.27</td>\n",
              "    </tr>\n",
              "    <tr>\n",
              "      <th>2</th>\n",
              "      <td>329.83</td>\n",
              "    </tr>\n",
              "    <tr>\n",
              "      <th>3</th>\n",
              "      <td>328.34</td>\n",
              "    </tr>\n",
              "    <tr>\n",
              "      <th>4</th>\n",
              "      <td>322.04</td>\n",
              "    </tr>\n",
              "  </tbody>\n",
              "</table>\n",
              "</div>"
            ],
            "text/plain": [
              "     Open\n",
              "0  325.25\n",
              "1  331.27\n",
              "2  329.83\n",
              "3  328.34\n",
              "4  322.04"
            ]
          },
          "metadata": {
            "tags": []
          },
          "execution_count": 12
        }
      ]
    },
    {
      "metadata": {
        "id": "z3OYbMhcwgqm",
        "colab_type": "code",
        "colab": {}
      },
      "cell_type": "code",
      "source": [
        "# feature scaling\n",
        "\n",
        "from sklearn.preprocessing import MinMaxScaler\n",
        "\n",
        "mm = MinMaxScaler(feature_range = (0, 1))\n",
        "training_data = mm.fit_transform(training_data)\n"
      ],
      "execution_count": 0,
      "outputs": []
    },
    {
      "metadata": {
        "id": "i8re98-UxQ3y",
        "colab_type": "code",
        "outputId": "88508262-57d8-4e36-9b54-a8255e05e927",
        "colab": {
          "base_uri": "https://localhost:8080/",
          "height": 54
        }
      },
      "cell_type": "code",
      "source": [
        "# Getting the inputs and outputs\n",
        "\n",
        "x_train = training_data[0:1257]\n",
        "y_train = training_data[1:1258]\n",
        "\n",
        "print(x_train.shape)\n",
        "print(y_train.shape)\n"
      ],
      "execution_count": 0,
      "outputs": [
        {
          "output_type": "stream",
          "text": [
            "(1257, 1)\n",
            "(1257, 1)\n"
          ],
          "name": "stdout"
        }
      ]
    },
    {
      "metadata": {
        "id": "qTNdKPW8yFRc",
        "colab_type": "code",
        "outputId": "8b71f3a4-5f23-49cb-fae2-1e34ebcea1a8",
        "colab": {
          "base_uri": "https://localhost:8080/",
          "height": 36
        }
      },
      "cell_type": "code",
      "source": [
        "# reshaping\n",
        "\n",
        "x_train = np.reshape(x_train, (1257, 1, 1))\n",
        "\n",
        "print(x_train.shape)"
      ],
      "execution_count": 0,
      "outputs": [
        {
          "output_type": "stream",
          "text": [
            "(1257, 1, 1)\n"
          ],
          "name": "stdout"
        }
      ]
    },
    {
      "metadata": {
        "id": "6c47hPxrzRHh",
        "colab_type": "code",
        "outputId": "422d4d31-80c9-48e9-f026-271853fdefeb",
        "colab": {
          "base_uri": "https://localhost:8080/",
          "height": 36
        }
      },
      "cell_type": "code",
      "source": [
        "# importing the keras libraries and packages\n",
        "\n",
        "import keras\n",
        "from keras.models import Sequential\n",
        "from keras.layers import Dense\n",
        "from keras.layers import LSTM\n"
      ],
      "execution_count": 0,
      "outputs": [
        {
          "output_type": "stream",
          "text": [
            "Using TensorFlow backend.\n"
          ],
          "name": "stderr"
        }
      ]
    },
    {
      "metadata": {
        "id": "Cbe32yNBzuF_",
        "colab_type": "code",
        "outputId": "04c24b03-7277-4a38-b11a-550012196f41",
        "colab": {
          "base_uri": "https://localhost:8080/",
          "height": 7529
        }
      },
      "cell_type": "code",
      "source": [
        "# initializing the model\n",
        "model = Sequential()\n",
        "\n",
        "# adding the input layer and the LSTM layer\n",
        "model.add(LSTM(units = 4, activation = 'sigmoid', input_shape = (None, 1)))\n",
        "\n",
        "# adding the output layer\n",
        "model.add(Dense(units = 1))\n",
        "\n",
        "# compiling the model\n",
        "model.compile(optimizer = 'adam', loss = 'mean_squared_error')\n",
        "\n",
        "# fitting the RNN to the training data\n",
        "model.fit(x_train, y_train, batch_size = 32, epochs = 200)\n"
      ],
      "execution_count": 0,
      "outputs": [
        {
          "output_type": "stream",
          "text": [
            "Epoch 1/200\n",
            "1257/1257 [==============================] - 1s 635us/step - loss: 0.0988\n",
            "Epoch 2/200\n",
            "1257/1257 [==============================] - 0s 83us/step - loss: 0.0899\n",
            "Epoch 3/200\n",
            "1257/1257 [==============================] - 0s 83us/step - loss: 0.0873\n",
            "Epoch 4/200\n",
            "1257/1257 [==============================] - 0s 69us/step - loss: 0.0853\n",
            "Epoch 5/200\n",
            "1257/1257 [==============================] - 0s 65us/step - loss: 0.0832\n",
            "Epoch 6/200\n",
            "1257/1257 [==============================] - 0s 64us/step - loss: 0.0813\n",
            "Epoch 7/200\n",
            "1257/1257 [==============================] - 0s 66us/step - loss: 0.0793\n",
            "Epoch 8/200\n",
            "1257/1257 [==============================] - 0s 69us/step - loss: 0.0774\n",
            "Epoch 9/200\n",
            "1257/1257 [==============================] - 0s 66us/step - loss: 0.0754\n",
            "Epoch 10/200\n",
            "1257/1257 [==============================] - 0s 63us/step - loss: 0.0736\n",
            "Epoch 11/200\n",
            "1257/1257 [==============================] - 0s 66us/step - loss: 0.0716\n",
            "Epoch 12/200\n",
            "1257/1257 [==============================] - 0s 63us/step - loss: 0.0696\n",
            "Epoch 13/200\n",
            "1257/1257 [==============================] - 0s 63us/step - loss: 0.0676\n",
            "Epoch 14/200\n",
            "1257/1257 [==============================] - 0s 65us/step - loss: 0.0657\n",
            "Epoch 15/200\n",
            "1257/1257 [==============================] - 0s 64us/step - loss: 0.0637\n",
            "Epoch 16/200\n",
            "1257/1257 [==============================] - 0s 64us/step - loss: 0.0617\n",
            "Epoch 17/200\n",
            "1257/1257 [==============================] - 0s 66us/step - loss: 0.0596\n",
            "Epoch 18/200\n",
            "1257/1257 [==============================] - 0s 64us/step - loss: 0.0576\n",
            "Epoch 19/200\n",
            "1257/1257 [==============================] - 0s 66us/step - loss: 0.0556\n",
            "Epoch 20/200\n",
            "1257/1257 [==============================] - 0s 63us/step - loss: 0.0535\n",
            "Epoch 21/200\n",
            "1257/1257 [==============================] - 0s 66us/step - loss: 0.0516\n",
            "Epoch 22/200\n",
            "1257/1257 [==============================] - 0s 63us/step - loss: 0.0491\n",
            "Epoch 23/200\n",
            "1257/1257 [==============================] - 0s 64us/step - loss: 0.0469\n",
            "Epoch 24/200\n",
            "1257/1257 [==============================] - 0s 64us/step - loss: 0.0448\n",
            "Epoch 25/200\n",
            "1257/1257 [==============================] - 0s 63us/step - loss: 0.0426\n",
            "Epoch 26/200\n",
            "1257/1257 [==============================] - 0s 64us/step - loss: 0.0403\n",
            "Epoch 27/200\n",
            "1257/1257 [==============================] - 0s 67us/step - loss: 0.0381\n",
            "Epoch 28/200\n",
            "1257/1257 [==============================] - 0s 67us/step - loss: 0.0358\n",
            "Epoch 29/200\n",
            "1257/1257 [==============================] - 0s 70us/step - loss: 0.0336\n",
            "Epoch 30/200\n",
            "1257/1257 [==============================] - 0s 61us/step - loss: 0.0313\n",
            "Epoch 31/200\n",
            "1257/1257 [==============================] - 0s 65us/step - loss: 0.0291\n",
            "Epoch 32/200\n",
            "1257/1257 [==============================] - 0s 66us/step - loss: 0.0270\n",
            "Epoch 33/200\n",
            "1257/1257 [==============================] - 0s 65us/step - loss: 0.0248\n",
            "Epoch 34/200\n",
            "1257/1257 [==============================] - 0s 67us/step - loss: 0.0227\n",
            "Epoch 35/200\n",
            "1257/1257 [==============================] - 0s 69us/step - loss: 0.0207\n",
            "Epoch 36/200\n",
            "1257/1257 [==============================] - 0s 66us/step - loss: 0.0188\n",
            "Epoch 37/200\n",
            "1257/1257 [==============================] - 0s 65us/step - loss: 0.0170\n",
            "Epoch 38/200\n",
            "1257/1257 [==============================] - 0s 64us/step - loss: 0.0152\n",
            "Epoch 39/200\n",
            "1257/1257 [==============================] - 0s 61us/step - loss: 0.0136\n",
            "Epoch 40/200\n",
            "1257/1257 [==============================] - 0s 64us/step - loss: 0.0120\n",
            "Epoch 41/200\n",
            "1257/1257 [==============================] - 0s 64us/step - loss: 0.0106\n",
            "Epoch 42/200\n",
            "1257/1257 [==============================] - 0s 65us/step - loss: 0.0093\n",
            "Epoch 43/200\n",
            "1257/1257 [==============================] - 0s 63us/step - loss: 0.0081\n",
            "Epoch 44/200\n",
            "1257/1257 [==============================] - 0s 61us/step - loss: 0.0070\n",
            "Epoch 45/200\n",
            "1257/1257 [==============================] - 0s 64us/step - loss: 0.0060\n",
            "Epoch 46/200\n",
            "1257/1257 [==============================] - 0s 65us/step - loss: 0.0051\n",
            "Epoch 47/200\n",
            "1257/1257 [==============================] - 0s 75us/step - loss: 0.0044\n",
            "Epoch 48/200\n",
            "1257/1257 [==============================] - 0s 67us/step - loss: 0.0037\n",
            "Epoch 49/200\n",
            "1257/1257 [==============================] - 0s 64us/step - loss: 0.0031\n",
            "Epoch 50/200\n",
            "1257/1257 [==============================] - 0s 63us/step - loss: 0.0026\n",
            "Epoch 51/200\n",
            "1257/1257 [==============================] - 0s 64us/step - loss: 0.0021\n",
            "Epoch 52/200\n",
            "1257/1257 [==============================] - 0s 63us/step - loss: 0.0018\n",
            "Epoch 53/200\n",
            "1257/1257 [==============================] - 0s 64us/step - loss: 0.0015\n",
            "Epoch 54/200\n",
            "1257/1257 [==============================] - 0s 65us/step - loss: 0.0012\n",
            "Epoch 55/200\n",
            "1257/1257 [==============================] - 0s 62us/step - loss: 0.0010\n",
            "Epoch 56/200\n",
            "1257/1257 [==============================] - 0s 65us/step - loss: 8.4768e-04\n",
            "Epoch 57/200\n",
            "1257/1257 [==============================] - 0s 63us/step - loss: 7.1843e-04\n",
            "Epoch 58/200\n",
            "1257/1257 [==============================] - 0s 64us/step - loss: 6.1246e-04\n",
            "Epoch 59/200\n",
            "1257/1257 [==============================] - 0s 65us/step - loss: 5.2900e-04\n",
            "Epoch 60/200\n",
            "1257/1257 [==============================] - 0s 65us/step - loss: 4.6251e-04\n",
            "Epoch 61/200\n",
            "1257/1257 [==============================] - 0s 67us/step - loss: 4.1370e-04\n",
            "Epoch 62/200\n",
            "1257/1257 [==============================] - 0s 69us/step - loss: 3.7641e-04\n",
            "Epoch 63/200\n",
            "1257/1257 [==============================] - 0s 64us/step - loss: 3.4882e-04\n",
            "Epoch 64/200\n",
            "1257/1257 [==============================] - 0s 67us/step - loss: 3.2804e-04\n",
            "Epoch 65/200\n",
            "1257/1257 [==============================] - 0s 65us/step - loss: 3.1006e-04\n",
            "Epoch 66/200\n",
            "1257/1257 [==============================] - 0s 65us/step - loss: 2.9884e-04\n",
            "Epoch 67/200\n",
            "1257/1257 [==============================] - 0s 64us/step - loss: 2.9011e-04\n",
            "Epoch 68/200\n",
            "1257/1257 [==============================] - 0s 64us/step - loss: 2.8447e-04\n",
            "Epoch 69/200\n",
            "1257/1257 [==============================] - 0s 66us/step - loss: 2.7885e-04\n",
            "Epoch 70/200\n",
            "1257/1257 [==============================] - 0s 64us/step - loss: 2.7591e-04\n",
            "Epoch 71/200\n",
            "1257/1257 [==============================] - 0s 63us/step - loss: 2.7300e-04\n",
            "Epoch 72/200\n",
            "1257/1257 [==============================] - 0s 62us/step - loss: 2.7176e-04\n",
            "Epoch 73/200\n",
            "1257/1257 [==============================] - 0s 63us/step - loss: 2.7061e-04\n",
            "Epoch 74/200\n",
            "1257/1257 [==============================] - 0s 63us/step - loss: 2.7003e-04\n",
            "Epoch 75/200\n",
            "1257/1257 [==============================] - 0s 62us/step - loss: 2.6826e-04\n",
            "Epoch 76/200\n",
            "1257/1257 [==============================] - 0s 62us/step - loss: 2.6807e-04\n",
            "Epoch 77/200\n",
            "1257/1257 [==============================] - 0s 65us/step - loss: 2.6682e-04\n",
            "Epoch 78/200\n",
            "1257/1257 [==============================] - 0s 67us/step - loss: 2.6692e-04\n",
            "Epoch 79/200\n",
            "1257/1257 [==============================] - 0s 61us/step - loss: 2.6673e-04\n",
            "Epoch 80/200\n",
            "1257/1257 [==============================] - 0s 62us/step - loss: 2.6570e-04\n",
            "Epoch 81/200\n",
            "1257/1257 [==============================] - 0s 64us/step - loss: 2.6601e-04\n",
            "Epoch 82/200\n",
            "1257/1257 [==============================] - 0s 65us/step - loss: 2.6583e-04\n",
            "Epoch 83/200\n",
            "1257/1257 [==============================] - 0s 63us/step - loss: 2.6581e-04\n",
            "Epoch 84/200\n",
            "1257/1257 [==============================] - 0s 64us/step - loss: 2.6477e-04\n",
            "Epoch 85/200\n",
            "1257/1257 [==============================] - 0s 64us/step - loss: 2.6406e-04\n",
            "Epoch 86/200\n",
            "1257/1257 [==============================] - 0s 65us/step - loss: 2.6364e-04\n",
            "Epoch 87/200\n",
            "1257/1257 [==============================] - 0s 66us/step - loss: 2.6365e-04\n",
            "Epoch 88/200\n",
            "1257/1257 [==============================] - 0s 65us/step - loss: 2.6406e-04\n",
            "Epoch 89/200\n",
            "1257/1257 [==============================] - 0s 65us/step - loss: 2.6276e-04\n",
            "Epoch 90/200\n",
            "1257/1257 [==============================] - 0s 66us/step - loss: 2.6716e-04\n",
            "Epoch 91/200\n",
            "1257/1257 [==============================] - 0s 65us/step - loss: 2.6426e-04\n",
            "Epoch 92/200\n",
            "1257/1257 [==============================] - 0s 65us/step - loss: 2.6196e-04\n",
            "Epoch 93/200\n",
            "1257/1257 [==============================] - 0s 67us/step - loss: 2.6213e-04\n",
            "Epoch 94/200\n",
            "1257/1257 [==============================] - 0s 64us/step - loss: 2.6279e-04\n",
            "Epoch 95/200\n",
            "1257/1257 [==============================] - 0s 69us/step - loss: 2.6213e-04\n",
            "Epoch 96/200\n",
            "1257/1257 [==============================] - 0s 64us/step - loss: 2.6099e-04\n",
            "Epoch 97/200\n",
            "1257/1257 [==============================] - 0s 62us/step - loss: 2.6246e-04\n",
            "Epoch 98/200\n",
            "1257/1257 [==============================] - 0s 64us/step - loss: 2.6138e-04\n",
            "Epoch 99/200\n",
            "1257/1257 [==============================] - 0s 63us/step - loss: 2.6097e-04\n",
            "Epoch 100/200\n",
            "1257/1257 [==============================] - 0s 62us/step - loss: 2.5902e-04\n",
            "Epoch 101/200\n",
            "1257/1257 [==============================] - 0s 67us/step - loss: 2.5965e-04\n",
            "Epoch 102/200\n",
            "1257/1257 [==============================] - 0s 61us/step - loss: 2.5894e-04\n",
            "Epoch 103/200\n",
            "1257/1257 [==============================] - 0s 63us/step - loss: 2.6040e-04\n",
            "Epoch 104/200\n",
            "1257/1257 [==============================] - 0s 61us/step - loss: 2.5846e-04\n",
            "Epoch 105/200\n",
            "1257/1257 [==============================] - 0s 65us/step - loss: 2.6137e-04\n",
            "Epoch 106/200\n",
            "1257/1257 [==============================] - 0s 61us/step - loss: 2.5881e-04\n",
            "Epoch 107/200\n",
            "1257/1257 [==============================] - 0s 62us/step - loss: 2.5862e-04\n",
            "Epoch 108/200\n",
            "1257/1257 [==============================] - 0s 67us/step - loss: 2.5924e-04\n",
            "Epoch 109/200\n",
            "1257/1257 [==============================] - 0s 64us/step - loss: 2.5786e-04\n",
            "Epoch 110/200\n",
            "1257/1257 [==============================] - 0s 62us/step - loss: 2.5682e-04\n",
            "Epoch 111/200\n",
            "1257/1257 [==============================] - 0s 63us/step - loss: 2.5663e-04\n",
            "Epoch 112/200\n",
            "1257/1257 [==============================] - 0s 67us/step - loss: 2.5575e-04\n",
            "Epoch 113/200\n",
            "1257/1257 [==============================] - 0s 66us/step - loss: 2.5582e-04\n",
            "Epoch 114/200\n",
            "1257/1257 [==============================] - 0s 66us/step - loss: 2.5877e-04\n",
            "Epoch 115/200\n",
            "1257/1257 [==============================] - 0s 68us/step - loss: 2.5901e-04\n",
            "Epoch 116/200\n",
            "1257/1257 [==============================] - 0s 63us/step - loss: 2.5635e-04\n",
            "Epoch 117/200\n",
            "1257/1257 [==============================] - 0s 67us/step - loss: 2.5538e-04\n",
            "Epoch 118/200\n",
            "1257/1257 [==============================] - 0s 67us/step - loss: 2.5604e-04\n",
            "Epoch 119/200\n",
            "1257/1257 [==============================] - 0s 66us/step - loss: 2.5435e-04\n",
            "Epoch 120/200\n",
            "1257/1257 [==============================] - 0s 66us/step - loss: 2.5637e-04\n",
            "Epoch 121/200\n",
            "1257/1257 [==============================] - 0s 63us/step - loss: 2.5392e-04\n",
            "Epoch 122/200\n",
            "1257/1257 [==============================] - 0s 61us/step - loss: 2.5484e-04\n",
            "Epoch 123/200\n",
            "1257/1257 [==============================] - 0s 62us/step - loss: 2.5550e-04\n",
            "Epoch 124/200\n",
            "1257/1257 [==============================] - 0s 63us/step - loss: 2.5397e-04\n",
            "Epoch 125/200\n",
            "1257/1257 [==============================] - 0s 62us/step - loss: 2.5336e-04\n",
            "Epoch 126/200\n",
            "1257/1257 [==============================] - 0s 59us/step - loss: 2.5445e-04\n",
            "Epoch 127/200\n",
            "1257/1257 [==============================] - 0s 60us/step - loss: 2.5718e-04\n",
            "Epoch 128/200\n",
            "1257/1257 [==============================] - 0s 63us/step - loss: 2.5803e-04\n",
            "Epoch 129/200\n",
            "1257/1257 [==============================] - 0s 63us/step - loss: 2.5583e-04\n",
            "Epoch 130/200\n",
            "1257/1257 [==============================] - 0s 63us/step - loss: 2.5723e-04\n",
            "Epoch 131/200\n",
            "1257/1257 [==============================] - 0s 62us/step - loss: 2.5399e-04\n",
            "Epoch 132/200\n",
            "1257/1257 [==============================] - 0s 64us/step - loss: 2.5321e-04\n",
            "Epoch 133/200\n",
            "1257/1257 [==============================] - 0s 64us/step - loss: 2.5327e-04\n",
            "Epoch 134/200\n",
            "1257/1257 [==============================] - 0s 65us/step - loss: 2.5443e-04\n",
            "Epoch 135/200\n",
            "1257/1257 [==============================] - 0s 63us/step - loss: 2.5428e-04\n",
            "Epoch 136/200\n",
            "1257/1257 [==============================] - 0s 64us/step - loss: 2.5534e-04\n",
            "Epoch 137/200\n",
            "1257/1257 [==============================] - 0s 62us/step - loss: 2.5661e-04\n",
            "Epoch 138/200\n",
            "1257/1257 [==============================] - 0s 61us/step - loss: 2.5403e-04\n",
            "Epoch 139/200\n",
            "1257/1257 [==============================] - 0s 63us/step - loss: 2.5452e-04\n",
            "Epoch 140/200\n",
            "1257/1257 [==============================] - 0s 63us/step - loss: 2.5731e-04\n",
            "Epoch 141/200\n",
            "1257/1257 [==============================] - 0s 64us/step - loss: 2.5296e-04\n",
            "Epoch 142/200\n",
            "1257/1257 [==============================] - 0s 63us/step - loss: 2.5383e-04\n",
            "Epoch 143/200\n",
            "1257/1257 [==============================] - 0s 61us/step - loss: 2.5623e-04\n",
            "Epoch 144/200\n",
            "1257/1257 [==============================] - 0s 65us/step - loss: 2.5659e-04\n",
            "Epoch 145/200\n",
            "1257/1257 [==============================] - 0s 63us/step - loss: 2.5299e-04\n",
            "Epoch 146/200\n",
            "1257/1257 [==============================] - 0s 68us/step - loss: 2.5253e-04\n",
            "Epoch 147/200\n",
            "1257/1257 [==============================] - 0s 65us/step - loss: 2.5402e-04\n",
            "Epoch 148/200\n",
            "1257/1257 [==============================] - 0s 66us/step - loss: 2.5273e-04\n",
            "Epoch 149/200\n",
            "1257/1257 [==============================] - 0s 63us/step - loss: 2.5295e-04\n",
            "Epoch 150/200\n",
            "1257/1257 [==============================] - 0s 63us/step - loss: 2.5491e-04\n",
            "Epoch 151/200\n",
            "1257/1257 [==============================] - 0s 63us/step - loss: 2.5546e-04\n",
            "Epoch 152/200\n",
            "1257/1257 [==============================] - 0s 67us/step - loss: 2.5180e-04\n",
            "Epoch 153/200\n",
            "1257/1257 [==============================] - 0s 64us/step - loss: 2.5836e-04\n",
            "Epoch 154/200\n",
            "1257/1257 [==============================] - 0s 62us/step - loss: 2.5413e-04\n",
            "Epoch 155/200\n",
            "1257/1257 [==============================] - 0s 63us/step - loss: 2.5327e-04\n",
            "Epoch 156/200\n",
            "1257/1257 [==============================] - 0s 66us/step - loss: 2.5220e-04\n",
            "Epoch 157/200\n",
            "1257/1257 [==============================] - 0s 64us/step - loss: 2.5479e-04\n",
            "Epoch 158/200\n",
            "1257/1257 [==============================] - 0s 62us/step - loss: 2.5076e-04\n",
            "Epoch 159/200\n",
            "1257/1257 [==============================] - 0s 64us/step - loss: 2.5232e-04\n",
            "Epoch 160/200\n",
            "1257/1257 [==============================] - 0s 62us/step - loss: 2.5328e-04\n",
            "Epoch 161/200\n",
            "1257/1257 [==============================] - 0s 61us/step - loss: 2.5386e-04\n",
            "Epoch 162/200\n",
            "1257/1257 [==============================] - 0s 64us/step - loss: 2.5339e-04\n",
            "Epoch 163/200\n",
            "1257/1257 [==============================] - 0s 63us/step - loss: 2.5598e-04\n",
            "Epoch 164/200\n",
            "1257/1257 [==============================] - 0s 64us/step - loss: 2.5367e-04\n",
            "Epoch 165/200\n",
            "1257/1257 [==============================] - 0s 62us/step - loss: 2.5303e-04\n",
            "Epoch 166/200\n",
            "1257/1257 [==============================] - 0s 65us/step - loss: 2.5141e-04\n",
            "Epoch 167/200\n",
            "1257/1257 [==============================] - 0s 66us/step - loss: 2.5234e-04\n",
            "Epoch 168/200\n",
            "1257/1257 [==============================] - 0s 67us/step - loss: 2.5484e-04\n",
            "Epoch 169/200\n",
            "1257/1257 [==============================] - 0s 68us/step - loss: 2.5292e-04\n",
            "Epoch 170/200\n",
            "1257/1257 [==============================] - 0s 63us/step - loss: 2.5315e-04\n",
            "Epoch 171/200\n",
            "1257/1257 [==============================] - 0s 64us/step - loss: 2.5347e-04\n",
            "Epoch 172/200\n",
            "1257/1257 [==============================] - 0s 62us/step - loss: 2.5331e-04\n",
            "Epoch 173/200\n",
            "1257/1257 [==============================] - 0s 65us/step - loss: 2.5252e-04\n",
            "Epoch 174/200\n",
            "1257/1257 [==============================] - 0s 67us/step - loss: 2.5597e-04\n",
            "Epoch 175/200\n",
            "1257/1257 [==============================] - 0s 66us/step - loss: 2.5246e-04\n",
            "Epoch 176/200\n",
            "1257/1257 [==============================] - 0s 65us/step - loss: 2.4991e-04\n",
            "Epoch 177/200\n",
            "1257/1257 [==============================] - 0s 64us/step - loss: 2.5165e-04\n",
            "Epoch 178/200\n",
            "1257/1257 [==============================] - 0s 66us/step - loss: 2.5273e-04\n",
            "Epoch 179/200\n",
            "1257/1257 [==============================] - 0s 65us/step - loss: 2.5622e-04\n",
            "Epoch 180/200\n",
            "1257/1257 [==============================] - 0s 61us/step - loss: 2.5301e-04\n",
            "Epoch 181/200\n",
            "1257/1257 [==============================] - 0s 62us/step - loss: 2.5153e-04\n",
            "Epoch 182/200\n",
            "1257/1257 [==============================] - 0s 65us/step - loss: 2.5338e-04\n",
            "Epoch 183/200\n",
            "1257/1257 [==============================] - 0s 64us/step - loss: 2.5334e-04\n",
            "Epoch 184/200\n",
            "1257/1257 [==============================] - 0s 65us/step - loss: 2.5240e-04\n",
            "Epoch 185/200\n",
            "1257/1257 [==============================] - 0s 66us/step - loss: 2.5365e-04\n",
            "Epoch 186/200\n",
            "1257/1257 [==============================] - 0s 64us/step - loss: 2.5123e-04\n",
            "Epoch 187/200\n",
            "1257/1257 [==============================] - 0s 62us/step - loss: 2.5117e-04\n",
            "Epoch 188/200\n",
            "1257/1257 [==============================] - 0s 60us/step - loss: 2.5202e-04\n",
            "Epoch 189/200\n",
            "1257/1257 [==============================] - 0s 67us/step - loss: 2.5894e-04\n",
            "Epoch 190/200\n",
            "1257/1257 [==============================] - 0s 63us/step - loss: 2.5606e-04\n",
            "Epoch 191/200\n",
            "1257/1257 [==============================] - 0s 64us/step - loss: 2.5373e-04\n",
            "Epoch 192/200\n",
            "1257/1257 [==============================] - 0s 62us/step - loss: 2.6316e-04\n",
            "Epoch 193/200\n",
            "1257/1257 [==============================] - 0s 65us/step - loss: 2.5490e-04\n",
            "Epoch 194/200\n",
            "1257/1257 [==============================] - 0s 65us/step - loss: 2.5203e-04\n",
            "Epoch 195/200\n",
            "1257/1257 [==============================] - 0s 61us/step - loss: 2.5068e-04\n",
            "Epoch 196/200\n",
            "1257/1257 [==============================] - 0s 64us/step - loss: 2.5278e-04\n",
            "Epoch 197/200\n",
            "1257/1257 [==============================] - 0s 64us/step - loss: 2.5115e-04\n",
            "Epoch 198/200\n",
            "1257/1257 [==============================] - 0s 62us/step - loss: 2.5342e-04\n",
            "Epoch 199/200\n",
            "1257/1257 [==============================] - 0s 63us/step - loss: 2.5817e-04\n",
            "Epoch 200/200\n",
            "1257/1257 [==============================] - 0s 61us/step - loss: 2.5282e-04\n"
          ],
          "name": "stdout"
        },
        {
          "output_type": "execute_result",
          "data": {
            "text/plain": [
              "<keras.callbacks.History at 0x7f669525d4a8>"
            ]
          },
          "metadata": {
            "tags": []
          },
          "execution_count": 10
        }
      ]
    },
    {
      "metadata": {
        "id": "9N-6i3PXUvWU",
        "colab_type": "code",
        "outputId": "800db33f-07a0-4767-a114-a273500ae21f",
        "colab": {
          "base_uri": "https://localhost:8080/",
          "height": 206
        }
      },
      "cell_type": "code",
      "source": [
        "# getting the real stock of 2017 i.e., importing the test dataset\n",
        "\n",
        "test_data = pd.read_csv('drive/My Drive/super/Recurrent Neural Networks/Google_Stock_Price_Test.csv')\n",
        "real_stock_price = test_data.iloc[:,1:2]\n",
        "real_stock_price.head()\n"
      ],
      "execution_count": 0,
      "outputs": [
        {
          "output_type": "execute_result",
          "data": {
            "text/html": [
              "<div>\n",
              "<style scoped>\n",
              "    .dataframe tbody tr th:only-of-type {\n",
              "        vertical-align: middle;\n",
              "    }\n",
              "\n",
              "    .dataframe tbody tr th {\n",
              "        vertical-align: top;\n",
              "    }\n",
              "\n",
              "    .dataframe thead th {\n",
              "        text-align: right;\n",
              "    }\n",
              "</style>\n",
              "<table border=\"1\" class=\"dataframe\">\n",
              "  <thead>\n",
              "    <tr style=\"text-align: right;\">\n",
              "      <th></th>\n",
              "      <th>Open</th>\n",
              "    </tr>\n",
              "  </thead>\n",
              "  <tbody>\n",
              "    <tr>\n",
              "      <th>0</th>\n",
              "      <td>778.81</td>\n",
              "    </tr>\n",
              "    <tr>\n",
              "      <th>1</th>\n",
              "      <td>788.36</td>\n",
              "    </tr>\n",
              "    <tr>\n",
              "      <th>2</th>\n",
              "      <td>786.08</td>\n",
              "    </tr>\n",
              "    <tr>\n",
              "      <th>3</th>\n",
              "      <td>795.26</td>\n",
              "    </tr>\n",
              "    <tr>\n",
              "      <th>4</th>\n",
              "      <td>806.40</td>\n",
              "    </tr>\n",
              "  </tbody>\n",
              "</table>\n",
              "</div>"
            ],
            "text/plain": [
              "     Open\n",
              "0  778.81\n",
              "1  788.36\n",
              "2  786.08\n",
              "3  795.26\n",
              "4  806.40"
            ]
          },
          "metadata": {
            "tags": []
          },
          "execution_count": 14
        }
      ]
    },
    {
      "metadata": {
        "id": "sYfYkJi4WBG2",
        "colab_type": "code",
        "colab": {}
      },
      "cell_type": "code",
      "source": [
        "# getting the predicted stock price of 2017\n",
        "\n",
        "inputs = real_stock_price\n",
        "inputs = mm.transform(inputs)\n",
        "inputs = np.reshape(inputs, (20, 1, 1))\n",
        "\n",
        "\n",
        "predicted_stock_price = model.predict(inputs)\n",
        "predicted_stock_price = mm.inverse_transform(predicted_stock_price)\n"
      ],
      "execution_count": 0,
      "outputs": []
    },
    {
      "metadata": {
        "id": "3tvcHwk8W2no",
        "colab_type": "code",
        "outputId": "6a8e1f36-99ec-4728-f479-a583d133d60c",
        "colab": {
          "base_uri": "https://localhost:8080/",
          "height": 392
        }
      },
      "cell_type": "code",
      "source": [
        "predicted_stock_price"
      ],
      "execution_count": 0,
      "outputs": [
        {
          "output_type": "execute_result",
          "data": {
            "text/plain": [
              "array([[777.2973 ],\n",
              "       [786.0699 ],\n",
              "       [783.97736],\n",
              "       [792.3954 ],\n",
              "       [802.58514],\n",
              "       [803.9186 ],\n",
              "       [801.30615],\n",
              "       [803.26105],\n",
              "       [803.5716 ],\n",
              "       [803.2062 ],\n",
              "       [802.04626],\n",
              "       [801.4157 ],\n",
              "       [803.05096],\n",
              "       [803.3615 ],\n",
              "       [817.0804 ],\n",
              "       [823.7347 ],\n",
              "       [831.1652 ],\n",
              "       [828.35443],\n",
              "       [810.12256],\n",
              "       [793.86066]], dtype=float32)"
            ]
          },
          "metadata": {
            "tags": []
          },
          "execution_count": 21
        }
      ]
    },
    {
      "metadata": {
        "id": "pkA9SvUqXF4M",
        "colab_type": "code",
        "outputId": "4ae4b823-bc7f-4eda-bd84-aba6f0e8adfb",
        "colab": {
          "base_uri": "https://localhost:8080/",
          "height": 376
        }
      },
      "cell_type": "code",
      "source": [
        "# visualizing the results\n",
        "\n",
        "plt.plot(real_stock_price, color = 'red', label = 'Real Google Stock Price')\n",
        "plt.plot(predicted_stock_price, color = 'blue', label = 'Predicted Google Stock Price')\n",
        "plt.title('Stock Prediction')\n",
        "plt.xlabel('Time')\n",
        "plt.ylabel('Google Stock Price')\n",
        "plt.legend()\n",
        "plt.show()"
      ],
      "execution_count": 0,
      "outputs": [
        {
          "output_type": "display_data",
          "data": {
            "image/png": "[encoded data removed]",
            "text/plain": [
              "<matplotlib.figure.Figure at 0x7f669184a048>"
            ]
          },
          "metadata": {
            "tags": []
          }
        }
      ]
    },
    {
      "metadata": {
        "id": "a_5uKG6UYpxB",
        "colab_type": "code",
        "outputId": "ea411307-5363-4908-cf5a-62617368ada4",
        "colab": {
          "base_uri": "https://localhost:8080/",
          "height": 206
        }
      },
      "cell_type": "code",
      "source": [
        "# getting the real stock price of 2012 - 2016\n",
        "\n",
        "training_data = pd.read_csv('drive/My Drive/super/Recurrent Neural Networks/Google_Stock_Price_Train.csv')\n",
        "\n",
        "training_data.shape\n",
        "training_data.head()"
      ],
      "execution_count": 0,
      "outputs": [
        {
          "output_type": "execute_result",
          "data": {
            "text/html": [
              "<div>\n",
              "<style scoped>\n",
              "    .dataframe tbody tr th:only-of-type {\n",
              "        vertical-align: middle;\n",
              "    }\n",
              "\n",
              "    .dataframe tbody tr th {\n",
              "        vertical-align: top;\n",
              "    }\n",
              "\n",
              "    .dataframe thead th {\n",
              "        text-align: right;\n",
              "    }\n",
              "</style>\n",
              "<table border=\"1\" class=\"dataframe\">\n",
              "  <thead>\n",
              "    <tr style=\"text-align: right;\">\n",
              "      <th></th>\n",
              "      <th>Date</th>\n",
              "      <th>Open</th>\n",
              "      <th>High</th>\n",
              "      <th>Low</th>\n",
              "      <th>Close</th>\n",
              "      <th>Volume</th>\n",
              "    </tr>\n",
              "  </thead>\n",
              "  <tbody>\n",
              "    <tr>\n",
              "      <th>0</th>\n",
              "      <td>1/3/2012</td>\n",
              "      <td>325.25</td>\n",
              "      <td>332.83</td>\n",
              "      <td>324.97</td>\n",
              "      <td>663.59</td>\n",
              "      <td>7,380,500</td>\n",
              "    </tr>\n",
              "    <tr>\n",
              "      <th>1</th>\n",
              "      <td>1/4/2012</td>\n",
              "      <td>331.27</td>\n",
              "      <td>333.87</td>\n",
              "      <td>329.08</td>\n",
              "      <td>666.45</td>\n",
              "      <td>5,749,400</td>\n",
              "    </tr>\n",
              "    <tr>\n",
              "      <th>2</th>\n",
              "      <td>1/5/2012</td>\n",
              "      <td>329.83</td>\n",
              "      <td>330.75</td>\n",
              "      <td>326.89</td>\n",
              "      <td>657.21</td>\n",
              "      <td>6,590,300</td>\n",
              "    </tr>\n",
              "    <tr>\n",
              "      <th>3</th>\n",
              "      <td>1/6/2012</td>\n",
              "      <td>328.34</td>\n",
              "      <td>328.77</td>\n",
              "      <td>323.68</td>\n",
              "      <td>648.24</td>\n",
              "      <td>5,405,900</td>\n",
              "    </tr>\n",
              "    <tr>\n",
              "      <th>4</th>\n",
              "      <td>1/9/2012</td>\n",
              "      <td>322.04</td>\n",
              "      <td>322.29</td>\n",
              "      <td>309.46</td>\n",
              "      <td>620.76</td>\n",
              "      <td>11,688,800</td>\n",
              "    </tr>\n",
              "  </tbody>\n",
              "</table>\n",
              "</div>"
            ],
            "text/plain": [
              "       Date    Open    High     Low   Close      Volume\n",
              "0  1/3/2012  325.25  332.83  324.97  663.59   7,380,500\n",
              "1  1/4/2012  331.27  333.87  329.08  666.45   5,749,400\n",
              "2  1/5/2012  329.83  330.75  326.89  657.21   6,590,300\n",
              "3  1/6/2012  328.34  328.77  323.68  648.24   5,405,900\n",
              "4  1/9/2012  322.04  322.29  309.46  620.76  11,688,800"
            ]
          },
          "metadata": {
            "tags": []
          },
          "execution_count": 26
        }
      ]
    },
    {
      "metadata": {
        "id": "E7nPSVrHbQxM",
        "colab_type": "code",
        "outputId": "72e39110-9a59-4196-f36f-54aa39867b95",
        "colab": {
          "base_uri": "https://localhost:8080/",
          "height": 206
        }
      },
      "cell_type": "code",
      "source": [
        "training_data = training_data.iloc[:, 1:2]\n",
        "\n",
        "training_data.shape\n",
        "training_data.head()"
      ],
      "execution_count": 0,
      "outputs": [
        {
          "output_type": "execute_result",
          "data": {
            "text/html": [
              "<div>\n",
              "<style scoped>\n",
              "    .dataframe tbody tr th:only-of-type {\n",
              "        vertical-align: middle;\n",
              "    }\n",
              "\n",
              "    .dataframe tbody tr th {\n",
              "        vertical-align: top;\n",
              "    }\n",
              "\n",
              "    .dataframe thead th {\n",
              "        text-align: right;\n",
              "    }\n",
              "</style>\n",
              "<table border=\"1\" class=\"dataframe\">\n",
              "  <thead>\n",
              "    <tr style=\"text-align: right;\">\n",
              "      <th></th>\n",
              "      <th>Open</th>\n",
              "    </tr>\n",
              "  </thead>\n",
              "  <tbody>\n",
              "    <tr>\n",
              "      <th>0</th>\n",
              "      <td>325.25</td>\n",
              "    </tr>\n",
              "    <tr>\n",
              "      <th>1</th>\n",
              "      <td>331.27</td>\n",
              "    </tr>\n",
              "    <tr>\n",
              "      <th>2</th>\n",
              "      <td>329.83</td>\n",
              "    </tr>\n",
              "    <tr>\n",
              "      <th>3</th>\n",
              "      <td>328.34</td>\n",
              "    </tr>\n",
              "    <tr>\n",
              "      <th>4</th>\n",
              "      <td>322.04</td>\n",
              "    </tr>\n",
              "  </tbody>\n",
              "</table>\n",
              "</div>"
            ],
            "text/plain": [
              "     Open\n",
              "0  325.25\n",
              "1  331.27\n",
              "2  329.83\n",
              "3  328.34\n",
              "4  322.04"
            ]
          },
          "metadata": {
            "tags": []
          },
          "execution_count": 27
        }
      ]
    },
    {
      "metadata": {
        "id": "6uXzm4mBaIHq",
        "colab_type": "code",
        "colab": {}
      },
      "cell_type": "code",
      "source": [
        "# getting the predicted stock price of 2012-2016\n",
        "\n",
        "predicted_stock_price = model.predict(x_train)\n",
        "predicted_stock_price = mm.inverse_transform(predicted_stock_price)"
      ],
      "execution_count": 0,
      "outputs": []
    },
    {
      "metadata": {
        "id": "i76zfhK4arX9",
        "colab_type": "code",
        "outputId": "741d3ec5-a540-4eae-addf-5823b4997145",
        "colab": {
          "base_uri": "https://localhost:8080/",
          "height": 376
        }
      },
      "cell_type": "code",
      "source": [
        "# visualizing the whole training data results\n",
        "\n",
        "plt.plot(training_data, color = 'red', label = 'Real Google Stock Price')\n",
        "plt.plot(predicted_stock_price, color = 'blue', label = 'Predicted Google Stock Price')\n",
        "plt.title('Stock Prediction')\n",
        "plt.xlabel('Time')\n",
        "plt.ylabel('Google Stock Price')\n",
        "plt.legend()\n",
        "plt.show()"
      ],
      "execution_count": 0,
      "outputs": [
        {
          "output_type": "display_data",
          "data": {
            "image/png": "[encoded data removed]",
            "text/plain": [
              "<matplotlib.figure.Figure at 0x7f668ae7cf28>"
            ]
          },
          "metadata": {
            "tags": []
          }
        }
      ]
    },
    {
      "metadata": {
        "id": "Oni1qcQja270",
        "colab_type": "code",
        "outputId": "4a849729-d6d9-438d-92a6-289cb8cf986f",
        "colab": {
          "base_uri": "https://localhost:8080/",
          "height": 36
        }
      },
      "cell_type": "code",
      "source": [
        "# Evaluating the RNN model\n",
        "\n",
        "import math\n",
        "\n",
        "from sklearn.metrics import mean_squared_error\n",
        "\n",
        "rmse = math.sqrt(mean_squared_error(real_stock_price, predicted_stock_price))\n",
        "\n",
        "print(rmse)"
      ],
      "execution_count": 0,
      "outputs": [
        {
          "output_type": "stream",
          "text": [
            "4.142058509061696\n"
          ],
          "name": "stdout"
        }
      ]
    }
  ]
}